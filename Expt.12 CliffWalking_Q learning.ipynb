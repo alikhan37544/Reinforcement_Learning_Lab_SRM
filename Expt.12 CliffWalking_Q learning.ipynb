{
  "cells": [
    {
      "cell_type": "markdown",
      "metadata": {
        "id": "h2rmGULwBzyh"
      },
      "source": [
        "## Reinforcement Learning on Cliff Walking Problem\n",
        "\n",
        "In this notebook a simple reinforcement learning algorithm will be implemented from scratch. I will model the environment with a 2D array. For further knowledge please look at the following book:\n",
        "\n",
        "Reinforcement Learning: An Introduction\n",
        "R. Sutton, and A. Barto.\n",
        "The MIT Press, Second edition, (2018)\n"
      ]
    },
    {
      "cell_type": "markdown",
      "metadata": {
        "id": "FwgOZETZBzyl"
      },
      "source": [
        "\n",
        "\n",
        "Let us start by importing the related libraries"
      ]
    },
    {
      "cell_type": "code",
      "execution_count": 1,
      "metadata": {
        "id": "HIhK4lRCBzyl"
      },
      "outputs": [],
      "source": [
        "import random\n",
        "import numpy as np\n",
        "import matplotlib.pyplot as plt\n"
      ]
    },
    {
      "cell_type": "markdown",
      "metadata": {
        "id": "-hsAiEEWBzym"
      },
      "source": [
        "In the following sections I will use a \"copy\" command to copy the action list and also for debugging purposes I want to see all the elements of a numpy regardless of the size of the matrix. To enable these the followings should be written:"
      ]
    },
    {
      "cell_type": "code",
      "execution_count": 2,
      "metadata": {
        "id": "SblNJ2ppBzyn"
      },
      "outputs": [],
      "source": [
        "import copy\n",
        "np.set_printoptions(threshold = np.inf)"
      ]
    },
    {
      "cell_type": "markdown",
      "metadata": {
        "id": "8zyDCTbGBzyn"
      },
      "source": [
        "![Cliff Walking](https://cdn-images-1.medium.com/max/1600/1*cAezGWdRG9_3DXrKg3uftw.jpeg)"
      ]
    },
    {
      "cell_type": "markdown",
      "metadata": {
        "id": "QePRonjHBzyn"
      },
      "source": [
        "The task is simply to reach the point G by starting from point S in the map. However, there is a cliff we should avoid so that -100 reward incurs if a transition into the cliff is made. We will use two approaches to solve the problem as it can be seen from the picture. If we use **SARSA (State-Action-Reward-State-Action)** the agent will choose the safer path above. On the other side if we use **Q-Learning** the agent will choose relatively more dangerous but closer path. Note that these two methods are versions of **Temporal Difference** methods since they update the value function at each _time step_, not at each _episode_. Let's start with global methods."
      ]
    },
    {
      "cell_type": "code",
      "execution_count": 26,
      "metadata": {
        "id": "zvUMj1fHBzyo"
      },
      "outputs": [],
      "source": [
        "def display2D(array):\n",
        "    for row in array:\n",
        "        # Loop over columns.\n",
        "        for column in row:\n",
        "            print(column.getSign(), end=\" \")\n",
        "        # getSign() basically returns 'O' to represent nonvisited element\n",
        "        # 'C' to cliff and 'X' to represent visited element\n",
        "        print(end=\"\\n\")"
      ]
    },
    {
      "cell_type": "markdown",
      "metadata": {
        "id": "0wGOHYE7Bzyo"
      },
      "source": [
        "To display the rewards for debugging purpose"
      ]
    },
    {
      "cell_type": "code",
      "execution_count": 27,
      "metadata": {
        "id": "Y9MQO3SRBzyo"
      },
      "outputs": [],
      "source": [
        "def displayRewards(array):\n",
        "    for row in array:\n",
        "        # Loop over columns\n",
        "        for column in row:\n",
        "            print(column.getReward(), end=\" \")\n",
        "        print(end='\\n')"
      ]
    },
    {
      "cell_type": "markdown",
      "metadata": {
        "id": "9be8QfCkBzyp"
      },
      "source": [
        "To handle the rewards the following method is written. Note that rewards are strictly taken from the book. Different rewards will result in different solutions so that **reward function implementation is one of the most important concepts in RL**. For this application the cliffs incurs -100 and other transitions incur -1. Also note that, generally rewards are implemented via a state-action matrix. However, for this problem actually what matters only is the state where you end up, not the action. Hence, I will embed the rewards into the states. This method will not work when the action also matters."
      ]
    },
    {
      "cell_type": "code",
      "execution_count": 28,
      "metadata": {
        "id": "v9aBdpZpBzyp"
      },
      "outputs": [],
      "source": [
        "def handleRewards(array,last_row, column):\n",
        "    # column - 2 equals to number of cliff elements\n",
        "    for i in range (column - 2):\n",
        "        array[last_row][i+1].setReward(-100)\n",
        "    #array[last_row][column - 1].setReward(50)"
      ]
    },
    {
      "cell_type": "code",
      "execution_count": 29,
      "metadata": {
        "id": "1gGIyce-Bzyp"
      },
      "outputs": [],
      "source": [
        "def shiftAndAddArray(arrayToShift, newElement):\n",
        "    for i in range(len(arrayToShift) - 1):\n",
        "        arrayToShift[i] = arrayToShift[i + 1]\n",
        "    arrayToShift[len(arrayToShift) - 1] = newElement\n",
        "    return arrayToShift"
      ]
    },
    {
      "cell_type": "code",
      "execution_count": 30,
      "metadata": {
        "id": "fEOrymyTBzyp"
      },
      "outputs": [],
      "source": [
        "actionList = [0, 1, 2, 3]       # 0 for right,1 for down, 2 for up, 3 for left"
      ]
    },
    {
      "cell_type": "code",
      "execution_count": 31,
      "metadata": {
        "id": "5NfRFKjABzyp"
      },
      "outputs": [],
      "source": [
        "class States:\n",
        "    #sign indicates the position if sign is C it is cliff, if S starting point F is finishing point\n",
        "    # O is empty spot X is where the agent travels\n",
        "    def __init__(self,sign,reward,row,column):\n",
        "        self.sign = sign\n",
        "        self.reward = reward\n",
        "        self.row = row\n",
        "        self.column = column\n",
        "\n",
        "    # returns the reward of a particular state(note that states are enough for this problem for rewards)\n",
        "    def getReward(self):\n",
        "        return self.reward\n",
        "\n",
        "    # returns the signs of a particular state\n",
        "    def getSign(self):\n",
        "        return self.sign\n",
        "\n",
        "    # changes the sign of a particular state\n",
        "    def changeSign(self,newSign):\n",
        "        self.sign = newSign\n",
        "\n",
        "    # changes the reward of a particular state\n",
        "    def setReward(self,newReward):\n",
        "        self.reward = newReward\n",
        "\n",
        "    \"\"\"Returns an action (encoded integer) by using a epsilon-greedy approach\"\"\"\n",
        "    def eGreedy(self,Qvalue,epsilon,last_row_index, last_column_index): # returns action\n",
        "        newActionList = actionList.copy()  # new action list to choose by eliminating prohibited actions\n",
        "        if self.row == 0 and self.column == 0: # no up or left\n",
        "            newActionList.remove(3)   # remove left\n",
        "            newActionList.remove(2)   # remove up\n",
        "        elif self.row == last_row_index and self.column == 0:  # no down or left\n",
        "            newActionList.remove(3)   # remove left\n",
        "            newActionList.remove(1)   # remove down\n",
        "        elif self.row == 0 and self.column == last_column_index:  # no up or right\n",
        "            newActionList.remove(0)   # remove right\n",
        "            newActionList.remove(2)   # remove up\n",
        "        elif self.row == last_row_index and self.column == last_column_index:  # no down or right\n",
        "            newActionList.remove(0)   # remove right\n",
        "            newActionList.remove(1)   # remove down\n",
        "        # More general cases for prohibiting actions\n",
        "        elif self.row == 0:  # no up\n",
        "            newActionList.remove(2) # remove up\n",
        "        elif self.row == last_row_index: # no down\n",
        "            newActionList.remove(1) # remove down\n",
        "        elif self.column == 0:  # no left\n",
        "            newActionList.remove(3) # remove left\n",
        "        elif self.column == last_column_index:  # no right\n",
        "            newActionList.remove(0) # remove right\n",
        "\n",
        "        probability = random.uniform(0, 1) # random number between 0 and 1 for epsilon greedy\n",
        "        # To ensure exploration and exploitation e-greedy approach is used\n",
        "        if probability < 1 - epsilon:  # greedy action\n",
        "            return self.findMaxIndex(Qvalue, newActionList,last_row_index,last_column_index)\n",
        "        else:  # random action\n",
        "            return random.choice(newActionList)\n",
        "\n",
        "    \"\"\"Returns a pure greedy action without exploration\"\"\"\n",
        "    def ePureGreedy(self,Qvalue,last_row_index, last_column_index):\n",
        "        newActionList = actionList.copy()  # copy action list again\n",
        "        if self.row == 0 and self.column == 0:  # no up or left\n",
        "            newActionList.remove(3)  # remove left\n",
        "            newActionList.remove(2)  # remove up\n",
        "        elif self.row == last_row_index and self.column == 0:  # no down or left\n",
        "            newActionList.remove(3)  # remove left\n",
        "            newActionList.remove(1)  # remove down\n",
        "        elif self.row == 0 and self.column == last_column_index:  # no up or right\n",
        "            newActionList.remove(0)  # remove right\n",
        "            newActionList.remove(2)  # remove up\n",
        "        elif self.row == last_row_index and self.column == last_column_index:  # no down or right\n",
        "            newActionList.remove(0)\n",
        "            newActionList.remove(1)\n",
        "        # More general cases\n",
        "        elif self.row == 0:  # no up\n",
        "            newActionList.remove(2)  # remove up\n",
        "        elif self.row == last_row_index:  # no down\n",
        "            newActionList.remove(1)  # remove down\n",
        "        elif self.column == 0:  # no left\n",
        "            newActionList.remove(3)  # remove left\n",
        "        elif self.column == last_column_index:  # no right\n",
        "            newActionList.remove(0)  # remove right\n",
        "\n",
        "        return self.findMaxIndex(Qvalue, newActionList,last_row_index,last_column_index)\n",
        "\n",
        "    # change the state according to the action\n",
        "    def takeAction(self,array,action,Qvalue,last_row_index, last_column_index,epsilon):\n",
        "        #  note that action is an integer value\n",
        "        #  if 0 right, 1 down, 2 up, 3 left\n",
        "        # the following 4 lines of code can be discarded by inputting newAction list to this method\n",
        "        # I used a recursive approach for the solution by checking again whether motions are valid\n",
        "\n",
        "        # row = 0 -> we can't go up - call eGreedy for a valid action\n",
        "        if self.row == 0 and action == 2:  # if row 0 then up is not valid - call again eGreedy\n",
        "            newAction = self.eGreedy(Qvalue, epsilon,last_row_index, last_column_index)\n",
        "            return self.takeAction(array,newAction,Qvalue,last_row_index,last_column_index,epsilon)\n",
        "        # row == last_row_index -> can't go down\n",
        "        elif self.row == last_row_index and action == 1:\n",
        "            newAction = self.eGreedy(Qvalue, epsilon,last_row_index, last_column_index)\n",
        "            return self.takeAction(array, newAction,Qvalue,last_row_index,last_column_index,epsilon)\n",
        "        # column == last_column_index can't go right\n",
        "        elif self.column == last_column_index and action == 0:\n",
        "            newAction = self.eGreedy(Qvalue, epsilon,last_row_index, last_column_index)\n",
        "            return self.takeAction(array, newAction,Qvalue,last_row_index,last_column_index,epsilon)\n",
        "        # column = 0 -> can't go left\n",
        "        elif self.column == 0 and action == 3:\n",
        "            newAction = self.eGreedy(Qvalue, epsilon,last_row_index, last_column_index)\n",
        "            return self.takeAction(array, newAction,Qvalue, last_row_index, last_column_index,epsilon)\n",
        "\n",
        "        else:  # if everything is valid\n",
        "            if action == 0:  # right\n",
        "                next_state = array[self.row][self.column+1]  # update the state\n",
        "            elif action == 1:  # down\n",
        "                next_state = array[self.row + 1][self.column]  # update the state\n",
        "            elif action == 2:  # up\n",
        "                next_state = array[self.row - 1][self.column]  # update the state\n",
        "            elif action == 3:  # left\n",
        "                next_state = array[self.row][self.column - 1]\n",
        "        return next_state\n",
        "\n",
        "    def findMaxIndex(self, Qvalue, actionList, last_row_index, last_column_index):  # returns index of maximum number, for maximum value action\n",
        "        \"\"\"2D array modeled as a vector such a way that from left-to-right and up-to-down state number is incremented\n",
        "        i.e  0 - 1 - 2 - ..... - 11\n",
        "             12 - 13 - ....... - 23\n",
        "             24 - 25 - ....... - 35\n",
        "             36 - 37 - ....... - 47\n",
        "\n",
        "        Also state-action matrix is constrcuted and values Q values are stored in that in the following way\n",
        "        i.e      Actions\n",
        "        States   Right     Down    Up     Left\n",
        "        ...       ...       ...     ...     ....\n",
        "        State 11  -4.4      14.6    0.6    6.4\n",
        "        ...       ...       ...     ...     ....\n",
        "        if the model is 12 row and 4 columns then state 11 refers to the right-top point in which case the maximum\n",
        "        action will be going down\n",
        "        \"\"\"\n",
        "        maxIndex = np.argmax(Qvalue[self.row*12+self.column])\n",
        "        return maxIndex\n",
        "\n",
        "    #  checks whether the current state is terminal or not for ending the episode\n",
        "    def isTerminal(self,last_row_index):\n",
        "        # returns 1 if the current state is terminal - cliff or finish point\n",
        "        if self.row == last_row_index and self.column > 0:\n",
        "            return 1\n",
        "        else:\n",
        "            return 0"
      ]
    },
    {
      "cell_type": "markdown",
      "metadata": {
        "id": "7OMA6sF0Bzyq"
      },
      "source": [
        "![Q](https://cdn-images-1.medium.com/max/1600/1*d203n7cIso731qhJ7eOAkg.png)"
      ]
    },
    {
      "cell_type": "code",
      "execution_count": null,
      "metadata": {
        "id": "OFQdYlwQBzyq"
      },
      "outputs": [],
      "source": [
        "\n",
        "\"\"\"\n",
        "@params\n",
        "    array = state grid we constructed\n",
        "    row_number = #rows of state grid\n",
        "    column_number = #columns of state grid\n",
        "    episodes = #episodes\n",
        "    steps = #steps within episodes\n",
        "    alpha = learning rate\n",
        "    gama = discount factor\n",
        "\n",
        "\"\"\"\n",
        "\n",
        "def applyQlearning(array,row_number,column_number,episodes,steps,alpha,gama):\n",
        "    '''Step 1: Initialize epsilon to 0.1, compute state_number, and set last_row_index, last_column_index, and action_number to 4.\n",
        "    Step 2: Create a Q-table of size (state_number × action_number) with random values.\n",
        "\n",
        "    Step 3: Set all Q-values of the terminal state (last cell) to 0 to indicate no further reward.\n",
        "    Step 4: Initialize rewardArray, episodeArray, and a zero array averageRewardArray of size 40 for smoothing rewards.\n",
        "\n",
        "    Step 5: Loop for each episode from 0 to episodes, initialize step, count, and totalReward to 0.\n",
        "    Step 6: Set the starting state as array[3][0] and append the episode index to episodeArray.\n",
        "\n",
        "    Step 7: While count is within steps and current state is not terminal, increment step and count.\n",
        "    Step 8: Select an action using ε-greedy policy from current state and Q-table.\n",
        "\n",
        "    Step 9: Perform the selected action to transition to next_state, and get the immediate reward.\n",
        "    Step 10: Accumulate the reward to totalReward.\n",
        "\n",
        "    Step 11: Select the best next action using pure greedy strategy from the next_state.\n",
        "    Step 12: Get the maximum Q-value for that action and update the Q-value of the current state-action pair.\n",
        "\n",
        "    Step 13: Transition to the next state for the next iteration.\n",
        "    Step 14: After the episode ends, update averageRewardArray with the total reward.\n",
        "\n",
        "    Step 15: Compute the average reward over the non-zero entries in averageRewardArray.\n",
        "    Step 16: Append this average reward to rewardArray for plotting or analysis.'''\n",
        "\n",
        "    \"\"\"\n",
        "    Implements Q-learning algorithm for the cliff walking problem\n",
        "    \n",
        "    @params\n",
        "        array = state grid we constructed\n",
        "        row_number = #rows of state grid\n",
        "        column_number = #columns of state grid\n",
        "        episodes = #episodes\n",
        "        steps = #steps within episodes\n",
        "        alpha = learning rate\n",
        "        gama = discount factor\n",
        "    \"\"\"\n",
        "    # Step 1: Initialize parameters\n",
        "    epsilon_q = 0.1\n",
        "    state_number = row_number * column_number\n",
        "    last_row_index = row_number - 1\n",
        "    last_column_index = column_number - 1\n",
        "    action_number = 4  # Right, Down, Up, Left\n",
        "    \n",
        "    # Step 2: Create Q-table with random initial values\n",
        "    q_table = np.random.rand(state_number, action_number)\n",
        "    \n",
        "    # Step 3: Set Q-values for terminal states to 0\n",
        "    q_table[(last_row_index * column_number + 1):(last_row_index * column_number + last_column_index), :] = 0  # Cliff states\n",
        "    q_table[last_row_index * column_number + last_column_index, :] = 0  # Goal state\n",
        "    \n",
        "    # Step 4: Initialize arrays for tracking rewards and episodes\n",
        "    rewardArray = []\n",
        "    episodeArray = []\n",
        "    windowing_average_samples = 40\n",
        "    averageRewardArray = np.zeros(windowing_average_samples)\n",
        "    \n",
        "    # Step 5: Loop for each episode\n",
        "    for episode in range(episodes):\n",
        "        step = 0\n",
        "        count = 0\n",
        "        totalReward = 0\n",
        "        \n",
        "        # Step 6: Set starting state\n",
        "        current_state = array[last_row_index][0]\n",
        "        episodeArray.append(episode)\n",
        "        \n",
        "        # Step 7-13: Run episode until terminal state or max steps\n",
        "        while count < steps and current_state.isTerminal(last_row_index) == 0:\n",
        "            step += 1\n",
        "            count += 1\n",
        "            \n",
        "            # Step 8: Select action using epsilon-greedy policy\n",
        "            action = current_state.eGreedy(q_table, epsilon_q, last_row_index, last_column_index)\n",
        "            \n",
        "            # Step 9: Take action and observe next state and reward\n",
        "            next_state = current_state.takeAction(array, action, q_table, last_row_index, last_column_index, epsilon_q)\n",
        "            reward = next_state.getReward()\n",
        "            \n",
        "            # Step 10: Accumulate reward\n",
        "            totalReward += reward\n",
        "            \n",
        "            # Step 11: Find best next action using greedy policy\n",
        "            best_next_action = next_state.ePureGreedy(q_table, last_row_index, last_column_index)\n",
        "            \n",
        "            # Calculate state indices for Q-table\n",
        "            current_state_idx = current_state.row * column_number + current_state.column\n",
        "            next_state_idx = next_state.row * column_number + next_state.column\n",
        "            \n",
        "            # Step 12: Update Q-value using Q-learning update rule\n",
        "            q_table[current_state_idx][action] += alpha * (reward + gama * q_table[next_state_idx][best_next_action] - \n",
        "                                                         q_table[current_state_idx][action])\n",
        "            \n",
        "            # Step 13: Move to next state\n",
        "            current_state = next_state\n",
        "        \n",
        "        # Step 14: Update reward tracking with moving average\n",
        "        averageRewardArray = shiftAndAddArray(averageRewardArray, totalReward)\n",
        "        \n",
        "        # Step 15-16: Calculate average reward and track it\n",
        "        avg = 0\n",
        "        count = 0\n",
        "        for i in range(windowing_average_samples):\n",
        "            if averageRewardArray[i] != 0:\n",
        "                avg += averageRewardArray[i]\n",
        "                count += 1\n",
        "        \n",
        "        if count > 0:\n",
        "            rewardArray.append(avg / count)\n",
        "        else:\n",
        "            rewardArray.append(0)\n",
        "    \n",
        "    # Display results\n",
        "    print(\"Q TRAINING IS OVER\")\n",
        "    episodeArray = episodeArray[10:]\n",
        "    rewardArray = rewardArray[10:]\n",
        "    drawPath(array, q_table, last_row_index, last_column_index, epsilon_q)\n",
        "    plt.plot(episodeArray, rewardArray)\n",
        "    plt.legend(['Q learning'])\n",
        "    print(averageRewardArray)\n",
        "    plt.title(f'Smoothed by averaging {windowing_average_samples} successive episodes')\n",
        "    # limiting the overall boundary to have a nice vision\n",
        "    plt.ylim((-120, 0))\n",
        "    plt.show()\n",
        "    \n",
        "    return q_table  # Return the learned Q-table\n",
        "\n",
        "   \n"
      ]
    },
    {
      "cell_type": "code",
      "execution_count": 33,
      "metadata": {
        "id": "eTH3l8OgBzyr"
      },
      "outputs": [],
      "source": [
        " #  this is for the test after the training\n",
        "def drawPath(array,Qvalue,last_row_index, last_column_index,epsilon):\n",
        "    current_state = array[last_row_index][0]  # initial state\n",
        "    greedyAction = current_state.ePureGreedy(Qvalue,last_row_index,last_column_index)  # action is determined\n",
        "    while(current_state.isTerminal(last_row_index) == 0):\n",
        "        next_state = current_state.takeAction(array,greedyAction,Qvalue,last_row_index, last_column_index,epsilon)\n",
        "        next_state.changeSign(\"X\")\n",
        "        followingAction = next_state.ePureGreedy(Qvalue,last_row_index, last_column_index)\n",
        "        current_state = next_state\n",
        "        greedyAction = followingAction\n",
        "    display2D(array)"
      ]
    },
    {
      "cell_type": "code",
      "execution_count": 34,
      "metadata": {
        "colab": {
          "base_uri": "https://localhost:8080/",
          "height": 851
        },
        "id": "GYLb7gVVBzyr",
        "outputId": "28924167-befd-4a2a-a794-4a6a4595a5f7"
      },
      "outputs": [
        {
          "name": "stdout",
          "output_type": "stream",
          "text": [
            "O O O O O O O O O O O O \n",
            "O O O O O O O O O O O O \n",
            "O O O O O O O O O O O O \n",
            "O O O O O O O O O O O O \n",
            "OK HERE WE STOP\n",
            "O O O O O O O O O O O O \n",
            "O O O O O O O O O O O O \n",
            "O O O O O O O O O O O O \n",
            "S C C C C C C C C C C F \n",
            "-1 -1 -1 -1 -1 -1 -1 -1 -1 -1 -1 -1 \n",
            "-1 -1 -1 -1 -1 -1 -1 -1 -1 -1 -1 -1 \n",
            "-1 -1 -1 -1 -1 -1 -1 -1 -1 -1 -1 -1 \n",
            "-1 -100 -100 -100 -100 -100 -100 -100 -100 -100 -100 -1 \n",
            "CONSTRUCTED\n",
            "Q TRAINING IS OVER\n",
            "O O O O O O O O O O O O \n",
            "O O O O O O O O O O O O \n",
            "X X X X X X X X X X X X \n",
            "S C C C C C C C C C C X \n",
            "[ -13. -106.  -13.  -15. -107.  -13.  -15.  -15. -108.  -13.  -13. -100.\n",
            "  -13.  -13.  -13.  -17.  -21.  -17.  -17.  -15.  -13. -111. -111.  -13.\n",
            "  -15.  -17. -109.  -13.  -13.  -25.  -13. -106.  -13.  -13.  -13. -108.\n",
            " -111.  -13.  -13.  -15.]\n"
          ]
        },
        {
          "data": {
            "image/png": "[encoded data removed]",
            "text/plain": [
              "<Figure size 640x480 with 1 Axes>"
            ]
          },
          "metadata": {},
          "output_type": "display_data"
        }
      ],
      "source": [
        "def main():\n",
        "    episode_number = 600\n",
        "    steps = 500\n",
        "    gama = 0.9\n",
        "    alpha = 0.25\n",
        "    row_number = 4\n",
        "    column_number = 12\n",
        "    #construct the environment here q values are random integers\n",
        "    stateGrid = [[States('O',-1,y,x) for x in range (column_number)] for y in range(row_number)]\n",
        "    #print(random.choice(actionList)) this code segment changes a random action from the list\n",
        "    display2D(stateGrid)\n",
        "    print(\"OK HERE WE STOP\")\n",
        "    stateGrid[row_number - 1][0].changeSign('S')\n",
        "    stateGrid[row_number - 1][column_number - 1].changeSign('F')\n",
        "    for i in range(10):\n",
        "        stateGrid[row_number - 1][i+1].changeSign('C')\n",
        "    #this loop displays the two d array in a neat format\n",
        "    display2D(stateGrid)\n",
        "    #construction stopped here\n",
        "    handleRewards(stateGrid, row_number - 1, column_number)\n",
        "    displayRewards(stateGrid)\n",
        "    print(\"CONSTRUCTED\")\n",
        "    stateGrid2 = copy.deepcopy(stateGrid)\n",
        "    #applySarsa(stateGrid, row_number, column_number, episode_number, steps, alpha, gama)\n",
        "    applyQlearning(stateGrid2, row_number, column_number, episode_number, steps, alpha, gama)\n",
        "\n",
        "if __name__ == \"__main__\":\n",
        "    main()\n"
      ]
    }
  ],
  "metadata": {
    "colab": {
      "provenance": []
    },
    "kernelspec": {
      "display_name": "Python 3 (ipykernel)",
      "language": "python",
      "name": "python3"
    },
    "language_info": {
      "codemirror_mode": {
        "name": "ipython",
        "version": 3
      },
      "file_extension": ".py",
      "mimetype": "text/x-python",
      "name": "python",
      "nbconvert_exporter": "python",
      "pygments_lexer": "ipython3",
      "version": "3.10.16"
    }
  },
  "nbformat": 4,
  "nbformat_minor": 0
}
